{
 "cells": [
  {
   "cell_type": "code",
   "execution_count": 6,
   "metadata": {},
   "outputs": [],
   "source": [
    "# importing basic libraries\n",
    "from __future__ import annotations\n",
    "import xgboost as xgb\n",
    "import pandas as pd\n",
    "import numpy as np\n",
    "import asyncio\n",
    "import json\n",
    "from memphis import Memphis, MemphisError, MemphisConnectError\n"
   ]
  },
  {
   "cell_type": "code",
   "execution_count": 7,
   "metadata": {},
   "outputs": [],
   "source": [
    "import os\n",
    "from dotenv import load_dotenv\n",
    "load_dotenv()\n",
    "\n",
    "from dataclasses import dataclass\n",
    "\n",
    "@dataclass\n",
    "class Config:\n",
    "    memphis_host: str = os.environ.get(\"HOST\")\n",
    "    memphis_user: str = os.environ.get(\"USER\")\n",
    "    memphis_pwd: str = os.environ.get(\"PWD\")\n",
    "    memphis_id: str = os.environ.get(\"ID\")\n",
    "    \n",
    "config = Config()"
   ]
  },
  {
   "cell_type": "code",
   "execution_count": 4,
   "metadata": {},
   "outputs": [],
   "source": [
    "def update_neighbors(df_aux):\n",
    "    \n",
    "    df_filled = df_aux.copy()\n",
    "   \n",
    "    # Definindo os índices das vizinhanças que queremos preencher\n",
    "    neighborhood = [(i, j) for i in range(-1, 2) for j in range(-1, 2) if (i, j) != (0, 0)]\n",
    "    fields = ['temp_day-1_0_0', 'temp_day-1_0_1', 'temp_day-1_0_2', 'temp_day-1_1_0', 'temp_day-1_1_2', 'temp_day-1_2_0', 'temp_day-1_2_1', 'temp_day-1_2_2']\n",
    "\n",
    "    # Iterando sobre os registros do DataFrame original\n",
    "    for index, row in df_filled.iterrows():\n",
    "        x = index[0]\n",
    "        y = index[1]\n",
    "        default = 90 # value of no fire\n",
    "        # print(x, y, default)\n",
    "        for i in range(len(neighborhood)):\n",
    "            new_x, new_y = neighborhood[i][0] + x, neighborhood[i][1] + y\n",
    "            # print(new_x, new_y)\n",
    "\n",
    "            # Verificando se os índices vizinhos estão dentro dos limites do DataFrame\n",
    "            field = fields[i]\n",
    "            if 0 <= new_x < 30 and 0 <= new_y < 30:\n",
    "                value = df_filled.loc[(new_x, new_y), 'temperature']\n",
    "                df_filled.loc[(x, y), field] = value\n",
    "            else:\n",
    "                df_filled.loc[(x, y), field] = default\n",
    "   \n",
    "    return df_filled"
   ]
  },
  {
   "cell_type": "code",
   "execution_count": 5,
   "metadata": {},
   "outputs": [],
   "source": [
    "# Column list\n",
    "cols = ['geospatial_x', 'geospatial_y', 'temperature', \n",
    "        'temp_day-1_0_0', 'temp_day-1_0_1', 'temp_day-1_0_2',\n",
    "        'temp_day-1_1_0', 'temp_day-1_1_2',\n",
    "        'temp_day-1_2_0', 'temp_day-1_2_1', 'temp_day-1_2_2',\n",
    "        'alarm']\n",
    "df_base = pd.DataFrame(columns=cols)\n",
    "\n",
    "# Create matrix  x and y        \n",
    "x = np.arange(0, 30)\n",
    "y = np.arange(0, 30)\n",
    "coords = pd.MultiIndex.from_product([x, y])\n",
    "\n",
    "# Create dataframe and fill with NaN\n",
    "# Extrair níveis do MultiIndex em colunas separadas\n",
    "df_base['geospatial_x'] = coords.get_level_values(0)\n",
    "df_base['geospatial_y'] = coords.get_level_values(1)\n",
    "\n",
    "# Definir MultiIndex como índice do DataFrame\n",
    "df_base.set_index(['geospatial_x', 'geospatial_y'], inplace=True)\n",
    "\n",
    "df = df_base.copy()"
   ]
  },
  {
   "cell_type": "code",
   "execution_count": 8,
   "metadata": {},
   "outputs": [
    {
     "ename": "RuntimeError",
     "evalue": "asyncio.run() cannot be called from a running event loop",
     "output_type": "error",
     "traceback": [
      "\u001b[1;31m---------------------------------------------------------------------------\u001b[0m",
      "\u001b[1;31mRuntimeError\u001b[0m                              Traceback (most recent call last)",
      "Cell \u001b[1;32mIn[8], line 40\u001b[0m\n\u001b[0;32m     37\u001b[0m         \u001b[39mawait\u001b[39;00m memphis\u001b[39m.\u001b[39mclose()\n\u001b[0;32m     39\u001b[0m \u001b[39mif\u001b[39;00m \u001b[39m__name__\u001b[39m \u001b[39m==\u001b[39m \u001b[39m\"\u001b[39m\u001b[39m__main__\u001b[39m\u001b[39m\"\u001b[39m:\n\u001b[1;32m---> 40\u001b[0m     asyncio\u001b[39m.\u001b[39;49mrun(main())\n",
      "File \u001b[1;32m~\\AppData\\Local\\Programs\\Python\\Python311\\Lib\\asyncio\\runners.py:186\u001b[0m, in \u001b[0;36mrun\u001b[1;34m(main, debug)\u001b[0m\n\u001b[0;32m    161\u001b[0m \u001b[39m\u001b[39m\u001b[39m\"\"\"Execute the coroutine and return the result.\u001b[39;00m\n\u001b[0;32m    162\u001b[0m \n\u001b[0;32m    163\u001b[0m \u001b[39mThis function runs the passed coroutine, taking care of\u001b[39;00m\n\u001b[1;32m   (...)\u001b[0m\n\u001b[0;32m    182\u001b[0m \u001b[39m    asyncio.run(main())\u001b[39;00m\n\u001b[0;32m    183\u001b[0m \u001b[39m\"\"\"\u001b[39;00m\n\u001b[0;32m    184\u001b[0m \u001b[39mif\u001b[39;00m events\u001b[39m.\u001b[39m_get_running_loop() \u001b[39mis\u001b[39;00m \u001b[39mnot\u001b[39;00m \u001b[39mNone\u001b[39;00m:\n\u001b[0;32m    185\u001b[0m     \u001b[39m# fail fast with short traceback\u001b[39;00m\n\u001b[1;32m--> 186\u001b[0m     \u001b[39mraise\u001b[39;00m \u001b[39mRuntimeError\u001b[39;00m(\n\u001b[0;32m    187\u001b[0m         \u001b[39m\"\u001b[39m\u001b[39masyncio.run() cannot be called from a running event loop\u001b[39m\u001b[39m\"\u001b[39m)\n\u001b[0;32m    189\u001b[0m \u001b[39mwith\u001b[39;00m Runner(debug\u001b[39m=\u001b[39mdebug) \u001b[39mas\u001b[39;00m runner:\n\u001b[0;32m    190\u001b[0m     \u001b[39mreturn\u001b[39;00m runner\u001b[39m.\u001b[39mrun(main)\n",
      "\u001b[1;31mRuntimeError\u001b[0m: asyncio.run() cannot be called from a running event loop"
     ]
    }
   ],
   "source": [
    "# get new records of sensors\n",
    "df_sensors = pd.DataFrame(columns=['day', 'geospatial_x', 'geospatial_y', 'temperature'])\n",
    "\n",
    "async def main():\n",
    "    async def msg_handler(msgs, error, context):\n",
    "        try:\n",
    "            for msg in msgs:\n",
    "                print(\"message: \", msg.get_data())\n",
    "                await msg.ack()\n",
    "                if error:\n",
    "                    print(error)\n",
    "        except (MemphisError, MemphisConnectError, MemphisHeaderError) as e:\n",
    "            print(e)\n",
    "            return\n",
    "        \n",
    "    try:\n",
    "        memphis = Memphis()\n",
    "        await memphis.connect(host=config.memphis_host, username=config.memphis_user, password=config.memphis_pwd, account_id=config.memphis_id)\n",
    "        consumer = await memphis.consumer(station_name=\"zakar-fire-alerts\", consumer_name=\"prediction\")\n",
    "        \n",
    "        while True:\n",
    "            batch = await consumer.fetch(batch_size=900)\n",
    "            if batch is not None:\n",
    "                for msg in batch:\n",
    "                    serialized_record = msg.get_data()\n",
    "                    record = json.loads(serialized_record)\n",
    "                    df_sensors.append(record['day'], record['geospatial_x'], record['geospatial_y'], record['temperature'])\n",
    "                    # Acknowledge the message to the MEMPHIS queue\n",
    "                    await msg.ack()\n",
    "            else:\n",
    "                break \n",
    "        \n",
    "    except (MemphisError, MemphisConnectError) as e:\n",
    "        print(e)\n",
    "        \n",
    "       \n",
    "if __name__ == \"__main__\":\n",
    "    asyncio.run(main())"
   ]
  },
  {
   "cell_type": "code",
   "execution_count": null,
   "metadata": {},
   "outputs": [],
   "source": [
    "# update df_base with the new sensors of the date -1 (actual)\n",
    "for one_sensor in df_sensors:\n",
    "    day = one_sensor[0]\n",
    "    x = one_sensor[1]\n",
    "    y = one_sensor[2]\n",
    "    temperature = one_sensor[3]\n",
    "    # print(x, y, temperature)\n",
    "    idx = (x, y)\n",
    "    df.loc[idx, 'temperature'] = temperature"
   ]
  },
  {
   "cell_type": "code",
   "execution_count": null,
   "metadata": {},
   "outputs": [],
   "source": [
    "# get the average temperature \n",
    "average = df[\"temperature\"].mean()\n",
    "print(average)\n",
    "\n",
    "# update df_sensors with the neighbors\n",
    "df = update_neighbors(df)"
   ]
  },
  {
   "cell_type": "code",
   "execution_count": null,
   "metadata": {},
   "outputs": [],
   "source": [
    "features = ['geospatial_x', 'geospatial_y', 'temperature', \n",
    "        'temp_day-1_0_0', 'temp_day-1_0_1', 'temp_day-1_0_2',\n",
    "        'temp_day-1_1_0', 'temp_day-1_1_2',\n",
    "        'temp_day-1_2_0', 'temp_day-1_2_1', 'temp_day-1_2_2']\n"
   ]
  },
  {
   "cell_type": "code",
   "execution_count": null,
   "metadata": {},
   "outputs": [],
   "source": [
    "\n",
    "df = df.reset_index()\n",
    "df = df[features]\n",
    "# convert fields to int\n",
    "df[features] = df[features].astype(int)"
   ]
  },
  {
   "cell_type": "code",
   "execution_count": null,
   "metadata": {},
   "outputs": [],
   "source": [
    "# loading the modelo\n",
    "loaded_model = xgb.XGBClassifier()\n",
    "loaded_model.load_model('xgb_model.bin')"
   ]
  },
  {
   "cell_type": "code",
   "execution_count": null,
   "metadata": {},
   "outputs": [],
   "source": [
    "# Obter as probabilidades das previsões para a classe positiva (1)\n",
    "y_prob = loaded_model.predict_proba(df)[:, 1]"
   ]
  },
  {
   "cell_type": "code",
   "execution_count": null,
   "metadata": {},
   "outputs": [],
   "source": [
    "# Definir o valor de corte personalizado para a classificação\n",
    "valor_corte = 0.45 # Escolha um valor de corte adequado"
   ]
  },
  {
   "cell_type": "code",
   "execution_count": null,
   "metadata": {},
   "outputs": [],
   "source": [
    "# Transformar as probabilidades em rótulos discretos com base no valor de corte\n",
    "y_pred = (y_prob >= valor_corte).astype(int)"
   ]
  },
  {
   "cell_type": "code",
   "execution_count": null,
   "metadata": {},
   "outputs": [],
   "source": [
    "matrix = y_pred.reshape(30, 30)"
   ]
  },
  {
   "cell_type": "code",
   "execution_count": null,
   "metadata": {},
   "outputs": [],
   "source": [
    "# Encontrar índices onde matriz == 1\n",
    "list_predict = []\n",
    "idx = np.where(matrix == 1)\n",
    "\n",
    "print('ALERTS TO BE SENT')\n",
    "# Imprimir coordenadas \n",
    "for i, j in zip(idx[0], idx[1]):\n",
    "    print(f'Coordinate: ({i}, {j})')\n",
    "    list_predict.append((i,j))"
   ]
  },
  {
   "cell_type": "code",
   "execution_count": null,
   "metadata": {},
   "outputs": [],
   "source": [
    "async def main():\n",
    "    try:\n",
    "        \n",
    "        producer = await memphis.producer(station_name=\"zakar-fire-alerts\", producer_name=\"prediction\") # you can send the message parameter as dict as well\n",
    "        headers = Headers()\n",
    "        headers.add(\"key\", \"value\") \n",
    "        for alarm in list_predict:\n",
    "            await producer.produce(bytearray({\"event_day\": alarm['day'], \"notification_day\": alarm['day'], \"geospatial_x\": alarm['geospatial_x'], \"geospatial_y\": alarm['geospatial_x']}), headers=headers)\n",
    "        \n",
    "    except (MemphisError, MemphisConnectError, MemphisHeaderError, MemphisSchemaError) as e:\n",
    "        print(e)\n",
    "        \n",
    "    finally:\n",
    "        await memphis.close()\n",
    "        \n",
    "if __name__ == \"__main__\":\n",
    "    asyncio.run(main())"
   ]
  },
  {
   "cell_type": "code",
   "execution_count": null,
   "metadata": {},
   "outputs": [],
   "source": [
    "# Criar conjuntos a partir das listas\n",
    "set_predict = set(list_predict)\n",
    "set_official = set(list_official)\n",
    "\n",
    "# Elementos iguais\n",
    "elements_in_both_lists = set_predict.intersection(set_official)\n",
    "print(\"Both lists:\")\n",
    "for element in elements_in_both_lists:\n",
    "    print(element)"
   ]
  }
 ],
 "metadata": {
  "kernelspec": {
   "display_name": "venv",
   "language": "python",
   "name": "python3"
  },
  "language_info": {
   "codemirror_mode": {
    "name": "ipython",
    "version": 3
   },
   "file_extension": ".py",
   "mimetype": "text/x-python",
   "name": "python",
   "nbconvert_exporter": "python",
   "pygments_lexer": "ipython3",
   "version": "3.11.4"
  },
  "orig_nbformat": 4
 },
 "nbformat": 4,
 "nbformat_minor": 2
}
